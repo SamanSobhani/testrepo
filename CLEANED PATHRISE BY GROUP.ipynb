{
  "nbformat": 4,
  "nbformat_minor": 0,
  "metadata": {
    "colab": {
      "provenance": []
    },
    "kernelspec": {
      "name": "python3",
      "display_name": "Python 3"
    },
    "language_info": {
      "name": "python"
    }
  },
  "cells": [
    {
      "cell_type": "code",
      "execution_count": 18,
      "metadata": {
        "id": "RPL2nnLLnpsq"
      },
      "outputs": [],
      "source": [
        "from google.colab import files"
      ]
    },
    {
      "cell_type": "code",
      "source": [
        "uploaded = files.upload()"
      ],
      "metadata": {
        "colab": {
          "base_uri": "https://localhost:8080/",
          "height": 73
        },
        "id": "e0zmihgfoKUa",
        "outputId": "1815e0c1-9414-474a-8004-e3cc930642b1"
      },
      "execution_count": 19,
      "outputs": [
        {
          "output_type": "display_data",
          "data": {
            "text/plain": [
              "<IPython.core.display.HTML object>"
            ],
            "text/html": [
              "\n",
              "     <input type=\"file\" id=\"files-83687026-4f28-4561-83aa-0d2151224b51\" name=\"files[]\" multiple disabled\n",
              "        style=\"border:none\" />\n",
              "     <output id=\"result-83687026-4f28-4561-83aa-0d2151224b51\">\n",
              "      Upload widget is only available when the cell has been executed in the\n",
              "      current browser session. Please rerun this cell to enable.\n",
              "      </output>\n",
              "      <script>// Copyright 2017 Google LLC\n",
              "//\n",
              "// Licensed under the Apache License, Version 2.0 (the \"License\");\n",
              "// you may not use this file except in compliance with the License.\n",
              "// You may obtain a copy of the License at\n",
              "//\n",
              "//      http://www.apache.org/licenses/LICENSE-2.0\n",
              "//\n",
              "// Unless required by applicable law or agreed to in writing, software\n",
              "// distributed under the License is distributed on an \"AS IS\" BASIS,\n",
              "// WITHOUT WARRANTIES OR CONDITIONS OF ANY KIND, either express or implied.\n",
              "// See the License for the specific language governing permissions and\n",
              "// limitations under the License.\n",
              "\n",
              "/**\n",
              " * @fileoverview Helpers for google.colab Python module.\n",
              " */\n",
              "(function(scope) {\n",
              "function span(text, styleAttributes = {}) {\n",
              "  const element = document.createElement('span');\n",
              "  element.textContent = text;\n",
              "  for (const key of Object.keys(styleAttributes)) {\n",
              "    element.style[key] = styleAttributes[key];\n",
              "  }\n",
              "  return element;\n",
              "}\n",
              "\n",
              "// Max number of bytes which will be uploaded at a time.\n",
              "const MAX_PAYLOAD_SIZE = 100 * 1024;\n",
              "\n",
              "function _uploadFiles(inputId, outputId) {\n",
              "  const steps = uploadFilesStep(inputId, outputId);\n",
              "  const outputElement = document.getElementById(outputId);\n",
              "  // Cache steps on the outputElement to make it available for the next call\n",
              "  // to uploadFilesContinue from Python.\n",
              "  outputElement.steps = steps;\n",
              "\n",
              "  return _uploadFilesContinue(outputId);\n",
              "}\n",
              "\n",
              "// This is roughly an async generator (not supported in the browser yet),\n",
              "// where there are multiple asynchronous steps and the Python side is going\n",
              "// to poll for completion of each step.\n",
              "// This uses a Promise to block the python side on completion of each step,\n",
              "// then passes the result of the previous step as the input to the next step.\n",
              "function _uploadFilesContinue(outputId) {\n",
              "  const outputElement = document.getElementById(outputId);\n",
              "  const steps = outputElement.steps;\n",
              "\n",
              "  const next = steps.next(outputElement.lastPromiseValue);\n",
              "  return Promise.resolve(next.value.promise).then((value) => {\n",
              "    // Cache the last promise value to make it available to the next\n",
              "    // step of the generator.\n",
              "    outputElement.lastPromiseValue = value;\n",
              "    return next.value.response;\n",
              "  });\n",
              "}\n",
              "\n",
              "/**\n",
              " * Generator function which is called between each async step of the upload\n",
              " * process.\n",
              " * @param {string} inputId Element ID of the input file picker element.\n",
              " * @param {string} outputId Element ID of the output display.\n",
              " * @return {!Iterable<!Object>} Iterable of next steps.\n",
              " */\n",
              "function* uploadFilesStep(inputId, outputId) {\n",
              "  const inputElement = document.getElementById(inputId);\n",
              "  inputElement.disabled = false;\n",
              "\n",
              "  const outputElement = document.getElementById(outputId);\n",
              "  outputElement.innerHTML = '';\n",
              "\n",
              "  const pickedPromise = new Promise((resolve) => {\n",
              "    inputElement.addEventListener('change', (e) => {\n",
              "      resolve(e.target.files);\n",
              "    });\n",
              "  });\n",
              "\n",
              "  const cancel = document.createElement('button');\n",
              "  inputElement.parentElement.appendChild(cancel);\n",
              "  cancel.textContent = 'Cancel upload';\n",
              "  const cancelPromise = new Promise((resolve) => {\n",
              "    cancel.onclick = () => {\n",
              "      resolve(null);\n",
              "    };\n",
              "  });\n",
              "\n",
              "  // Wait for the user to pick the files.\n",
              "  const files = yield {\n",
              "    promise: Promise.race([pickedPromise, cancelPromise]),\n",
              "    response: {\n",
              "      action: 'starting',\n",
              "    }\n",
              "  };\n",
              "\n",
              "  cancel.remove();\n",
              "\n",
              "  // Disable the input element since further picks are not allowed.\n",
              "  inputElement.disabled = true;\n",
              "\n",
              "  if (!files) {\n",
              "    return {\n",
              "      response: {\n",
              "        action: 'complete',\n",
              "      }\n",
              "    };\n",
              "  }\n",
              "\n",
              "  for (const file of files) {\n",
              "    const li = document.createElement('li');\n",
              "    li.append(span(file.name, {fontWeight: 'bold'}));\n",
              "    li.append(span(\n",
              "        `(${file.type || 'n/a'}) - ${file.size} bytes, ` +\n",
              "        `last modified: ${\n",
              "            file.lastModifiedDate ? file.lastModifiedDate.toLocaleDateString() :\n",
              "                                    'n/a'} - `));\n",
              "    const percent = span('0% done');\n",
              "    li.appendChild(percent);\n",
              "\n",
              "    outputElement.appendChild(li);\n",
              "\n",
              "    const fileDataPromise = new Promise((resolve) => {\n",
              "      const reader = new FileReader();\n",
              "      reader.onload = (e) => {\n",
              "        resolve(e.target.result);\n",
              "      };\n",
              "      reader.readAsArrayBuffer(file);\n",
              "    });\n",
              "    // Wait for the data to be ready.\n",
              "    let fileData = yield {\n",
              "      promise: fileDataPromise,\n",
              "      response: {\n",
              "        action: 'continue',\n",
              "      }\n",
              "    };\n",
              "\n",
              "    // Use a chunked sending to avoid message size limits. See b/62115660.\n",
              "    let position = 0;\n",
              "    do {\n",
              "      const length = Math.min(fileData.byteLength - position, MAX_PAYLOAD_SIZE);\n",
              "      const chunk = new Uint8Array(fileData, position, length);\n",
              "      position += length;\n",
              "\n",
              "      const base64 = btoa(String.fromCharCode.apply(null, chunk));\n",
              "      yield {\n",
              "        response: {\n",
              "          action: 'append',\n",
              "          file: file.name,\n",
              "          data: base64,\n",
              "        },\n",
              "      };\n",
              "\n",
              "      let percentDone = fileData.byteLength === 0 ?\n",
              "          100 :\n",
              "          Math.round((position / fileData.byteLength) * 100);\n",
              "      percent.textContent = `${percentDone}% done`;\n",
              "\n",
              "    } while (position < fileData.byteLength);\n",
              "  }\n",
              "\n",
              "  // All done.\n",
              "  yield {\n",
              "    response: {\n",
              "      action: 'complete',\n",
              "    }\n",
              "  };\n",
              "}\n",
              "\n",
              "scope.google = scope.google || {};\n",
              "scope.google.colab = scope.google.colab || {};\n",
              "scope.google.colab._files = {\n",
              "  _uploadFiles,\n",
              "  _uploadFilesContinue,\n",
              "};\n",
              "})(self);\n",
              "</script> "
            ]
          },
          "metadata": {}
        },
        {
          "output_type": "stream",
          "name": "stdout",
          "text": [
            "Saving tina2.ipynb to tina2.ipynb\n"
          ]
        }
      ]
    },
    {
      "cell_type": "code",
      "source": [
        "import pandas as pd"
      ],
      "metadata": {
        "id": "9PPJGZO7oQAn"
      },
      "execution_count": 20,
      "outputs": []
    },
    {
      "cell_type": "code",
      "source": [
        "import numpy as np"
      ],
      "metadata": {
        "id": "00Syu-thIr_E"
      },
      "execution_count": 21,
      "outputs": []
    },
    {
      "cell_type": "code",
      "source": [
        "df = pd.read_excel('Data_Pathrise (1).xlsx')"
      ],
      "metadata": {
        "id": "DpHXsA7boweP"
      },
      "execution_count": 22,
      "outputs": []
    },
    {
      "cell_type": "code",
      "source": [
        "df"
      ],
      "metadata": {
        "colab": {
          "base_uri": "https://localhost:8080/",
          "height": 1000
        },
        "id": "McttqDvPlaH6",
        "outputId": "de0433d2-1e91-40a4-f062-9c8d5c86df15"
      },
      "execution_count": 23,
      "outputs": [
        {
          "output_type": "execute_result",
          "data": {
            "text/plain": [
              "        id     pathrise_status primary_track cohort_tag  \\\n",
              "0        1              Active           SWE     OCT19A   \n",
              "1        2              Active           PSO     JAN20A   \n",
              "2        3         Closed Lost        Design     AUG19B   \n",
              "3        4         Closed Lost           PSO     AUG19B   \n",
              "4        5              Placed           SWE     AUG19A   \n",
              "...    ...                 ...           ...        ...   \n",
              "2539  2540  Withdrawn (Failed)        Design     JUN18A   \n",
              "2540  2541  Withdrawn (Failed)          Data     JAN19B   \n",
              "2541  2542              Active           SWE     SEP18C   \n",
              "2542  2543              Active           SWE     MAY18A   \n",
              "2543  2544           Withdrawn           SWE     OCT19A   \n",
              "\n",
              "      program_duration_days  placed  employment_status   \\\n",
              "0                       NaN       0          Unemployed   \n",
              "1                       NaN       0          Unemployed   \n",
              "2                       0.0       0  Employed Part-Time   \n",
              "3                       0.0       0          Contractor   \n",
              "4                      89.0       1          Unemployed   \n",
              "...                     ...     ...                 ...   \n",
              "2539                  457.0       0          Contractor   \n",
              "2540                  488.0       0                 NaN   \n",
              "2541                    NaN       0          Contractor   \n",
              "2542                    NaN       0                 NaN   \n",
              "2543                  285.0       0             Student   \n",
              "\n",
              "     highest_level_of_education length_of_job_search  \\\n",
              "0             Bachelor's Degree           3-5 months   \n",
              "1       Some College, No Degree           3-5 months   \n",
              "2               Master's Degree  Less than one month   \n",
              "3             Bachelor's Degree  Less than one month   \n",
              "4             Bachelor's Degree           1-2 months   \n",
              "...                         ...                  ...   \n",
              "2539            Master's Degree   6 months to a year   \n",
              "2540            Master's Degree           3-5 months   \n",
              "2541          Bachelor's Degree  Less than one month   \n",
              "2542            Master's Degree  Less than one month   \n",
              "2543            Master's Degree           1-2 months   \n",
              "\n",
              "               biggest_challenge_in_search professional_experience  \\\n",
              "0          Hearing back on my applications               3-4 years   \n",
              "1      Getting past final round interviews               1-2 years   \n",
              "2     Figuring out which jobs to apply for      Less than one year   \n",
              "3      Getting past final round interviews      Less than one year   \n",
              "4          Hearing back on my applications               1-2 years   \n",
              "...                                    ...                     ...   \n",
              "2539                Technical interviewing                5+ years   \n",
              "2540       Hearing back on my applications               1-2 years   \n",
              "2541                Technical interviewing               1-2 years   \n",
              "2542                Technical interviewing               1-2 years   \n",
              "2543       Hearing back on my applications               1-2 years   \n",
              "\n",
              "     work_authorization_status  number_of_interviews  number_of_applications  \\\n",
              "0               Canada Citizen                   2.0                     900   \n",
              "1                      Citizen                   6.0                       0   \n",
              "2                      Citizen                   0.0                       0   \n",
              "3                      Citizen                   5.0                      25   \n",
              "4                  F1 Visa/OPT                  10.0                     100   \n",
              "...                        ...                   ...                     ...   \n",
              "2539                   Citizen                   4.0                      15   \n",
              "2540               F1 Visa/OPT                   1.0                       7   \n",
              "2541                   Citizen                   1.0                      30   \n",
              "2542                   Citizen                   2.0                      10   \n",
              "2543                Green Card                   3.0                      70   \n",
              "\n",
              "      gender                                 race  \n",
              "0       Male  Non-Hispanic White or Euro-American  \n",
              "1       Male  Non-Hispanic White or Euro-American  \n",
              "2       Male         East Asian or Asian American  \n",
              "3       Male             Decline to Self Identify  \n",
              "4       Male         East Asian or Asian American  \n",
              "...      ...                                  ...  \n",
              "2539    Male  Non-Hispanic White or Euro-American  \n",
              "2540    Male  Non-Hispanic White or Euro-American  \n",
              "2541  Female  Non-Hispanic White or Euro-American  \n",
              "2542    Male             Decline to Self Identify  \n",
              "2543    Male  Non-Hispanic White or Euro-American  \n",
              "\n",
              "[2544 rows x 16 columns]"
            ],
            "text/html": [
              "\n",
              "  <div id=\"df-e8ea0c22-f679-4ebf-829a-5a89e2234b43\" class=\"colab-df-container\">\n",
              "    <div>\n",
              "<style scoped>\n",
              "    .dataframe tbody tr th:only-of-type {\n",
              "        vertical-align: middle;\n",
              "    }\n",
              "\n",
              "    .dataframe tbody tr th {\n",
              "        vertical-align: top;\n",
              "    }\n",
              "\n",
              "    .dataframe thead th {\n",
              "        text-align: right;\n",
              "    }\n",
              "</style>\n",
              "<table border=\"1\" class=\"dataframe\">\n",
              "  <thead>\n",
              "    <tr style=\"text-align: right;\">\n",
              "      <th></th>\n",
              "      <th>id</th>\n",
              "      <th>pathrise_status</th>\n",
              "      <th>primary_track</th>\n",
              "      <th>cohort_tag</th>\n",
              "      <th>program_duration_days</th>\n",
              "      <th>placed</th>\n",
              "      <th>employment_status</th>\n",
              "      <th>highest_level_of_education</th>\n",
              "      <th>length_of_job_search</th>\n",
              "      <th>biggest_challenge_in_search</th>\n",
              "      <th>professional_experience</th>\n",
              "      <th>work_authorization_status</th>\n",
              "      <th>number_of_interviews</th>\n",
              "      <th>number_of_applications</th>\n",
              "      <th>gender</th>\n",
              "      <th>race</th>\n",
              "    </tr>\n",
              "  </thead>\n",
              "  <tbody>\n",
              "    <tr>\n",
              "      <th>0</th>\n",
              "      <td>1</td>\n",
              "      <td>Active</td>\n",
              "      <td>SWE</td>\n",
              "      <td>OCT19A</td>\n",
              "      <td>NaN</td>\n",
              "      <td>0</td>\n",
              "      <td>Unemployed</td>\n",
              "      <td>Bachelor's Degree</td>\n",
              "      <td>3-5 months</td>\n",
              "      <td>Hearing back on my applications</td>\n",
              "      <td>3-4 years</td>\n",
              "      <td>Canada Citizen</td>\n",
              "      <td>2.0</td>\n",
              "      <td>900</td>\n",
              "      <td>Male</td>\n",
              "      <td>Non-Hispanic White or Euro-American</td>\n",
              "    </tr>\n",
              "    <tr>\n",
              "      <th>1</th>\n",
              "      <td>2</td>\n",
              "      <td>Active</td>\n",
              "      <td>PSO</td>\n",
              "      <td>JAN20A</td>\n",
              "      <td>NaN</td>\n",
              "      <td>0</td>\n",
              "      <td>Unemployed</td>\n",
              "      <td>Some College, No Degree</td>\n",
              "      <td>3-5 months</td>\n",
              "      <td>Getting past final round interviews</td>\n",
              "      <td>1-2 years</td>\n",
              "      <td>Citizen</td>\n",
              "      <td>6.0</td>\n",
              "      <td>0</td>\n",
              "      <td>Male</td>\n",
              "      <td>Non-Hispanic White or Euro-American</td>\n",
              "    </tr>\n",
              "    <tr>\n",
              "      <th>2</th>\n",
              "      <td>3</td>\n",
              "      <td>Closed Lost</td>\n",
              "      <td>Design</td>\n",
              "      <td>AUG19B</td>\n",
              "      <td>0.0</td>\n",
              "      <td>0</td>\n",
              "      <td>Employed Part-Time</td>\n",
              "      <td>Master's Degree</td>\n",
              "      <td>Less than one month</td>\n",
              "      <td>Figuring out which jobs to apply for</td>\n",
              "      <td>Less than one year</td>\n",
              "      <td>Citizen</td>\n",
              "      <td>0.0</td>\n",
              "      <td>0</td>\n",
              "      <td>Male</td>\n",
              "      <td>East Asian or Asian American</td>\n",
              "    </tr>\n",
              "    <tr>\n",
              "      <th>3</th>\n",
              "      <td>4</td>\n",
              "      <td>Closed Lost</td>\n",
              "      <td>PSO</td>\n",
              "      <td>AUG19B</td>\n",
              "      <td>0.0</td>\n",
              "      <td>0</td>\n",
              "      <td>Contractor</td>\n",
              "      <td>Bachelor's Degree</td>\n",
              "      <td>Less than one month</td>\n",
              "      <td>Getting past final round interviews</td>\n",
              "      <td>Less than one year</td>\n",
              "      <td>Citizen</td>\n",
              "      <td>5.0</td>\n",
              "      <td>25</td>\n",
              "      <td>Male</td>\n",
              "      <td>Decline to Self Identify</td>\n",
              "    </tr>\n",
              "    <tr>\n",
              "      <th>4</th>\n",
              "      <td>5</td>\n",
              "      <td>Placed</td>\n",
              "      <td>SWE</td>\n",
              "      <td>AUG19A</td>\n",
              "      <td>89.0</td>\n",
              "      <td>1</td>\n",
              "      <td>Unemployed</td>\n",
              "      <td>Bachelor's Degree</td>\n",
              "      <td>1-2 months</td>\n",
              "      <td>Hearing back on my applications</td>\n",
              "      <td>1-2 years</td>\n",
              "      <td>F1 Visa/OPT</td>\n",
              "      <td>10.0</td>\n",
              "      <td>100</td>\n",
              "      <td>Male</td>\n",
              "      <td>East Asian or Asian American</td>\n",
              "    </tr>\n",
              "    <tr>\n",
              "      <th>...</th>\n",
              "      <td>...</td>\n",
              "      <td>...</td>\n",
              "      <td>...</td>\n",
              "      <td>...</td>\n",
              "      <td>...</td>\n",
              "      <td>...</td>\n",
              "      <td>...</td>\n",
              "      <td>...</td>\n",
              "      <td>...</td>\n",
              "      <td>...</td>\n",
              "      <td>...</td>\n",
              "      <td>...</td>\n",
              "      <td>...</td>\n",
              "      <td>...</td>\n",
              "      <td>...</td>\n",
              "      <td>...</td>\n",
              "    </tr>\n",
              "    <tr>\n",
              "      <th>2539</th>\n",
              "      <td>2540</td>\n",
              "      <td>Withdrawn (Failed)</td>\n",
              "      <td>Design</td>\n",
              "      <td>JUN18A</td>\n",
              "      <td>457.0</td>\n",
              "      <td>0</td>\n",
              "      <td>Contractor</td>\n",
              "      <td>Master's Degree</td>\n",
              "      <td>6 months to a year</td>\n",
              "      <td>Technical interviewing</td>\n",
              "      <td>5+ years</td>\n",
              "      <td>Citizen</td>\n",
              "      <td>4.0</td>\n",
              "      <td>15</td>\n",
              "      <td>Male</td>\n",
              "      <td>Non-Hispanic White or Euro-American</td>\n",
              "    </tr>\n",
              "    <tr>\n",
              "      <th>2540</th>\n",
              "      <td>2541</td>\n",
              "      <td>Withdrawn (Failed)</td>\n",
              "      <td>Data</td>\n",
              "      <td>JAN19B</td>\n",
              "      <td>488.0</td>\n",
              "      <td>0</td>\n",
              "      <td>NaN</td>\n",
              "      <td>Master's Degree</td>\n",
              "      <td>3-5 months</td>\n",
              "      <td>Hearing back on my applications</td>\n",
              "      <td>1-2 years</td>\n",
              "      <td>F1 Visa/OPT</td>\n",
              "      <td>1.0</td>\n",
              "      <td>7</td>\n",
              "      <td>Male</td>\n",
              "      <td>Non-Hispanic White or Euro-American</td>\n",
              "    </tr>\n",
              "    <tr>\n",
              "      <th>2541</th>\n",
              "      <td>2542</td>\n",
              "      <td>Active</td>\n",
              "      <td>SWE</td>\n",
              "      <td>SEP18C</td>\n",
              "      <td>NaN</td>\n",
              "      <td>0</td>\n",
              "      <td>Contractor</td>\n",
              "      <td>Bachelor's Degree</td>\n",
              "      <td>Less than one month</td>\n",
              "      <td>Technical interviewing</td>\n",
              "      <td>1-2 years</td>\n",
              "      <td>Citizen</td>\n",
              "      <td>1.0</td>\n",
              "      <td>30</td>\n",
              "      <td>Female</td>\n",
              "      <td>Non-Hispanic White or Euro-American</td>\n",
              "    </tr>\n",
              "    <tr>\n",
              "      <th>2542</th>\n",
              "      <td>2543</td>\n",
              "      <td>Active</td>\n",
              "      <td>SWE</td>\n",
              "      <td>MAY18A</td>\n",
              "      <td>NaN</td>\n",
              "      <td>0</td>\n",
              "      <td>NaN</td>\n",
              "      <td>Master's Degree</td>\n",
              "      <td>Less than one month</td>\n",
              "      <td>Technical interviewing</td>\n",
              "      <td>1-2 years</td>\n",
              "      <td>Citizen</td>\n",
              "      <td>2.0</td>\n",
              "      <td>10</td>\n",
              "      <td>Male</td>\n",
              "      <td>Decline to Self Identify</td>\n",
              "    </tr>\n",
              "    <tr>\n",
              "      <th>2543</th>\n",
              "      <td>2544</td>\n",
              "      <td>Withdrawn</td>\n",
              "      <td>SWE</td>\n",
              "      <td>OCT19A</td>\n",
              "      <td>285.0</td>\n",
              "      <td>0</td>\n",
              "      <td>Student</td>\n",
              "      <td>Master's Degree</td>\n",
              "      <td>1-2 months</td>\n",
              "      <td>Hearing back on my applications</td>\n",
              "      <td>1-2 years</td>\n",
              "      <td>Green Card</td>\n",
              "      <td>3.0</td>\n",
              "      <td>70</td>\n",
              "      <td>Male</td>\n",
              "      <td>Non-Hispanic White or Euro-American</td>\n",
              "    </tr>\n",
              "  </tbody>\n",
              "</table>\n",
              "<p>2544 rows × 16 columns</p>\n",
              "</div>\n",
              "    <div class=\"colab-df-buttons\">\n",
              "\n",
              "  <div class=\"colab-df-container\">\n",
              "    <button class=\"colab-df-convert\" onclick=\"convertToInteractive('df-e8ea0c22-f679-4ebf-829a-5a89e2234b43')\"\n",
              "            title=\"Convert this dataframe to an interactive table.\"\n",
              "            style=\"display:none;\">\n",
              "\n",
              "  <svg xmlns=\"http://www.w3.org/2000/svg\" height=\"24px\" viewBox=\"0 -960 960 960\">\n",
              "    <path d=\"M120-120v-720h720v720H120Zm60-500h600v-160H180v160Zm220 220h160v-160H400v160Zm0 220h160v-160H400v160ZM180-400h160v-160H180v160Zm440 0h160v-160H620v160ZM180-180h160v-160H180v160Zm440 0h160v-160H620v160Z\"/>\n",
              "  </svg>\n",
              "    </button>\n",
              "\n",
              "  <style>\n",
              "    .colab-df-container {\n",
              "      display:flex;\n",
              "      gap: 12px;\n",
              "    }\n",
              "\n",
              "    .colab-df-convert {\n",
              "      background-color: #E8F0FE;\n",
              "      border: none;\n",
              "      border-radius: 50%;\n",
              "      cursor: pointer;\n",
              "      display: none;\n",
              "      fill: #1967D2;\n",
              "      height: 32px;\n",
              "      padding: 0 0 0 0;\n",
              "      width: 32px;\n",
              "    }\n",
              "\n",
              "    .colab-df-convert:hover {\n",
              "      background-color: #E2EBFA;\n",
              "      box-shadow: 0px 1px 2px rgba(60, 64, 67, 0.3), 0px 1px 3px 1px rgba(60, 64, 67, 0.15);\n",
              "      fill: #174EA6;\n",
              "    }\n",
              "\n",
              "    .colab-df-buttons div {\n",
              "      margin-bottom: 4px;\n",
              "    }\n",
              "\n",
              "    [theme=dark] .colab-df-convert {\n",
              "      background-color: #3B4455;\n",
              "      fill: #D2E3FC;\n",
              "    }\n",
              "\n",
              "    [theme=dark] .colab-df-convert:hover {\n",
              "      background-color: #434B5C;\n",
              "      box-shadow: 0px 1px 3px 1px rgba(0, 0, 0, 0.15);\n",
              "      filter: drop-shadow(0px 1px 2px rgba(0, 0, 0, 0.3));\n",
              "      fill: #FFFFFF;\n",
              "    }\n",
              "  </style>\n",
              "\n",
              "    <script>\n",
              "      const buttonEl =\n",
              "        document.querySelector('#df-e8ea0c22-f679-4ebf-829a-5a89e2234b43 button.colab-df-convert');\n",
              "      buttonEl.style.display =\n",
              "        google.colab.kernel.accessAllowed ? 'block' : 'none';\n",
              "\n",
              "      async function convertToInteractive(key) {\n",
              "        const element = document.querySelector('#df-e8ea0c22-f679-4ebf-829a-5a89e2234b43');\n",
              "        const dataTable =\n",
              "          await google.colab.kernel.invokeFunction('convertToInteractive',\n",
              "                                                    [key], {});\n",
              "        if (!dataTable) return;\n",
              "\n",
              "        const docLinkHtml = 'Like what you see? Visit the ' +\n",
              "          '<a target=\"_blank\" href=https://colab.research.google.com/notebooks/data_table.ipynb>data table notebook</a>'\n",
              "          + ' to learn more about interactive tables.';\n",
              "        element.innerHTML = '';\n",
              "        dataTable['output_type'] = 'display_data';\n",
              "        await google.colab.output.renderOutput(dataTable, element);\n",
              "        const docLink = document.createElement('div');\n",
              "        docLink.innerHTML = docLinkHtml;\n",
              "        element.appendChild(docLink);\n",
              "      }\n",
              "    </script>\n",
              "  </div>\n",
              "\n",
              "\n",
              "<div id=\"df-a9b3fb41-500a-419d-ac1a-83370f0daf80\">\n",
              "  <button class=\"colab-df-quickchart\" onclick=\"quickchart('df-a9b3fb41-500a-419d-ac1a-83370f0daf80')\"\n",
              "            title=\"Suggest charts\"\n",
              "            style=\"display:none;\">\n",
              "\n",
              "<svg xmlns=\"http://www.w3.org/2000/svg\" height=\"24px\"viewBox=\"0 0 24 24\"\n",
              "     width=\"24px\">\n",
              "    <g>\n",
              "        <path d=\"M19 3H5c-1.1 0-2 .9-2 2v14c0 1.1.9 2 2 2h14c1.1 0 2-.9 2-2V5c0-1.1-.9-2-2-2zM9 17H7v-7h2v7zm4 0h-2V7h2v10zm4 0h-2v-4h2v4z\"/>\n",
              "    </g>\n",
              "</svg>\n",
              "  </button>\n",
              "\n",
              "<style>\n",
              "  .colab-df-quickchart {\n",
              "      --bg-color: #E8F0FE;\n",
              "      --fill-color: #1967D2;\n",
              "      --hover-bg-color: #E2EBFA;\n",
              "      --hover-fill-color: #174EA6;\n",
              "      --disabled-fill-color: #AAA;\n",
              "      --disabled-bg-color: #DDD;\n",
              "  }\n",
              "\n",
              "  [theme=dark] .colab-df-quickchart {\n",
              "      --bg-color: #3B4455;\n",
              "      --fill-color: #D2E3FC;\n",
              "      --hover-bg-color: #434B5C;\n",
              "      --hover-fill-color: #FFFFFF;\n",
              "      --disabled-bg-color: #3B4455;\n",
              "      --disabled-fill-color: #666;\n",
              "  }\n",
              "\n",
              "  .colab-df-quickchart {\n",
              "    background-color: var(--bg-color);\n",
              "    border: none;\n",
              "    border-radius: 50%;\n",
              "    cursor: pointer;\n",
              "    display: none;\n",
              "    fill: var(--fill-color);\n",
              "    height: 32px;\n",
              "    padding: 0;\n",
              "    width: 32px;\n",
              "  }\n",
              "\n",
              "  .colab-df-quickchart:hover {\n",
              "    background-color: var(--hover-bg-color);\n",
              "    box-shadow: 0 1px 2px rgba(60, 64, 67, 0.3), 0 1px 3px 1px rgba(60, 64, 67, 0.15);\n",
              "    fill: var(--button-hover-fill-color);\n",
              "  }\n",
              "\n",
              "  .colab-df-quickchart-complete:disabled,\n",
              "  .colab-df-quickchart-complete:disabled:hover {\n",
              "    background-color: var(--disabled-bg-color);\n",
              "    fill: var(--disabled-fill-color);\n",
              "    box-shadow: none;\n",
              "  }\n",
              "\n",
              "  .colab-df-spinner {\n",
              "    border: 2px solid var(--fill-color);\n",
              "    border-color: transparent;\n",
              "    border-bottom-color: var(--fill-color);\n",
              "    animation:\n",
              "      spin 1s steps(1) infinite;\n",
              "  }\n",
              "\n",
              "  @keyframes spin {\n",
              "    0% {\n",
              "      border-color: transparent;\n",
              "      border-bottom-color: var(--fill-color);\n",
              "      border-left-color: var(--fill-color);\n",
              "    }\n",
              "    20% {\n",
              "      border-color: transparent;\n",
              "      border-left-color: var(--fill-color);\n",
              "      border-top-color: var(--fill-color);\n",
              "    }\n",
              "    30% {\n",
              "      border-color: transparent;\n",
              "      border-left-color: var(--fill-color);\n",
              "      border-top-color: var(--fill-color);\n",
              "      border-right-color: var(--fill-color);\n",
              "    }\n",
              "    40% {\n",
              "      border-color: transparent;\n",
              "      border-right-color: var(--fill-color);\n",
              "      border-top-color: var(--fill-color);\n",
              "    }\n",
              "    60% {\n",
              "      border-color: transparent;\n",
              "      border-right-color: var(--fill-color);\n",
              "    }\n",
              "    80% {\n",
              "      border-color: transparent;\n",
              "      border-right-color: var(--fill-color);\n",
              "      border-bottom-color: var(--fill-color);\n",
              "    }\n",
              "    90% {\n",
              "      border-color: transparent;\n",
              "      border-bottom-color: var(--fill-color);\n",
              "    }\n",
              "  }\n",
              "</style>\n",
              "\n",
              "  <script>\n",
              "    async function quickchart(key) {\n",
              "      const quickchartButtonEl =\n",
              "        document.querySelector('#' + key + ' button');\n",
              "      quickchartButtonEl.disabled = true;  // To prevent multiple clicks.\n",
              "      quickchartButtonEl.classList.add('colab-df-spinner');\n",
              "      try {\n",
              "        const charts = await google.colab.kernel.invokeFunction(\n",
              "            'suggestCharts', [key], {});\n",
              "      } catch (error) {\n",
              "        console.error('Error during call to suggestCharts:', error);\n",
              "      }\n",
              "      quickchartButtonEl.classList.remove('colab-df-spinner');\n",
              "      quickchartButtonEl.classList.add('colab-df-quickchart-complete');\n",
              "    }\n",
              "    (() => {\n",
              "      let quickchartButtonEl =\n",
              "        document.querySelector('#df-a9b3fb41-500a-419d-ac1a-83370f0daf80 button');\n",
              "      quickchartButtonEl.style.display =\n",
              "        google.colab.kernel.accessAllowed ? 'block' : 'none';\n",
              "    })();\n",
              "  </script>\n",
              "</div>\n",
              "\n",
              "  <div id=\"id_1717c43f-e918-4414-a1b4-29f1fb8f1cc8\">\n",
              "    <style>\n",
              "      .colab-df-generate {\n",
              "        background-color: #E8F0FE;\n",
              "        border: none;\n",
              "        border-radius: 50%;\n",
              "        cursor: pointer;\n",
              "        display: none;\n",
              "        fill: #1967D2;\n",
              "        height: 32px;\n",
              "        padding: 0 0 0 0;\n",
              "        width: 32px;\n",
              "      }\n",
              "\n",
              "      .colab-df-generate:hover {\n",
              "        background-color: #E2EBFA;\n",
              "        box-shadow: 0px 1px 2px rgba(60, 64, 67, 0.3), 0px 1px 3px 1px rgba(60, 64, 67, 0.15);\n",
              "        fill: #174EA6;\n",
              "      }\n",
              "\n",
              "      [theme=dark] .colab-df-generate {\n",
              "        background-color: #3B4455;\n",
              "        fill: #D2E3FC;\n",
              "      }\n",
              "\n",
              "      [theme=dark] .colab-df-generate:hover {\n",
              "        background-color: #434B5C;\n",
              "        box-shadow: 0px 1px 3px 1px rgba(0, 0, 0, 0.15);\n",
              "        filter: drop-shadow(0px 1px 2px rgba(0, 0, 0, 0.3));\n",
              "        fill: #FFFFFF;\n",
              "      }\n",
              "    </style>\n",
              "    <button class=\"colab-df-generate\" onclick=\"generateWithVariable('df')\"\n",
              "            title=\"Generate code using this dataframe.\"\n",
              "            style=\"display:none;\">\n",
              "\n",
              "  <svg xmlns=\"http://www.w3.org/2000/svg\" height=\"24px\"viewBox=\"0 0 24 24\"\n",
              "       width=\"24px\">\n",
              "    <path d=\"M7,19H8.4L18.45,9,17,7.55,7,17.6ZM5,21V16.75L18.45,3.32a2,2,0,0,1,2.83,0l1.4,1.43a1.91,1.91,0,0,1,.58,1.4,1.91,1.91,0,0,1-.58,1.4L9.25,21ZM18.45,9,17,7.55Zm-12,3A5.31,5.31,0,0,0,4.9,8.1,5.31,5.31,0,0,0,1,6.5,5.31,5.31,0,0,0,4.9,4.9,5.31,5.31,0,0,0,6.5,1,5.31,5.31,0,0,0,8.1,4.9,5.31,5.31,0,0,0,12,6.5,5.46,5.46,0,0,0,6.5,12Z\"/>\n",
              "  </svg>\n",
              "    </button>\n",
              "    <script>\n",
              "      (() => {\n",
              "      const buttonEl =\n",
              "        document.querySelector('#id_1717c43f-e918-4414-a1b4-29f1fb8f1cc8 button.colab-df-generate');\n",
              "      buttonEl.style.display =\n",
              "        google.colab.kernel.accessAllowed ? 'block' : 'none';\n",
              "\n",
              "      buttonEl.onclick = () => {\n",
              "        google.colab.notebook.generateWithVariable('df');\n",
              "      }\n",
              "      })();\n",
              "    </script>\n",
              "  </div>\n",
              "\n",
              "    </div>\n",
              "  </div>\n"
            ],
            "application/vnd.google.colaboratory.intrinsic+json": {
              "type": "dataframe",
              "variable_name": "df",
              "summary": "{\n  \"name\": \"df\",\n  \"rows\": 2544,\n  \"fields\": [\n    {\n      \"column\": \"id\",\n      \"properties\": {\n        \"dtype\": \"number\",\n        \"std\": 734,\n        \"min\": 1,\n        \"max\": 2544,\n        \"num_unique_values\": 2544,\n        \"samples\": [\n          57,\n          2202,\n          1855\n        ],\n        \"semantic_type\": \"\",\n        \"description\": \"\"\n      }\n    },\n    {\n      \"column\": \"pathrise_status\",\n      \"properties\": {\n        \"dtype\": \"category\",\n        \"num_unique_values\": 9,\n        \"samples\": [\n          \"Break\",\n          \"Closed Lost\",\n          \"Withdrawn\"\n        ],\n        \"semantic_type\": \"\",\n        \"description\": \"\"\n      }\n    },\n    {\n      \"column\": \"primary_track\",\n      \"properties\": {\n        \"dtype\": \"category\",\n        \"num_unique_values\": 6,\n        \"samples\": [\n          \"SWE\",\n          \"PSO\",\n          \"Marketing\"\n        ],\n        \"semantic_type\": \"\",\n        \"description\": \"\"\n      }\n    },\n    {\n      \"column\": \"cohort_tag\",\n      \"properties\": {\n        \"dtype\": \"category\",\n        \"num_unique_values\": 47,\n        \"samples\": [\n          \"SEP18B\",\n          \"MAY18A\",\n          \"JUN19B\"\n        ],\n        \"semantic_type\": \"\",\n        \"description\": \"\"\n      }\n    },\n    {\n      \"column\": \"program_duration_days\",\n      \"properties\": {\n        \"dtype\": \"number\",\n        \"std\": 125.86024752714411,\n        \"min\": 0.0,\n        \"max\": 548.0,\n        \"num_unique_values\": 411,\n        \"samples\": [\n          451.0,\n          143.0,\n          53.0\n        ],\n        \"semantic_type\": \"\",\n        \"description\": \"\"\n      }\n    },\n    {\n      \"column\": \"placed\",\n      \"properties\": {\n        \"dtype\": \"number\",\n        \"std\": 0,\n        \"min\": 0,\n        \"max\": 1,\n        \"num_unique_values\": 2,\n        \"samples\": [\n          1,\n          0\n        ],\n        \"semantic_type\": \"\",\n        \"description\": \"\"\n      }\n    },\n    {\n      \"column\": \"employment_status \",\n      \"properties\": {\n        \"dtype\": \"category\",\n        \"num_unique_values\": 5,\n        \"samples\": [\n          \"Employed Part-Time\",\n          \"Student\"\n        ],\n        \"semantic_type\": \"\",\n        \"description\": \"\"\n      }\n    },\n    {\n      \"column\": \"highest_level_of_education\",\n      \"properties\": {\n        \"dtype\": \"category\",\n        \"num_unique_values\": 7,\n        \"samples\": [\n          \"Bachelor's Degree\",\n          \"Some College, No Degree\"\n        ],\n        \"semantic_type\": \"\",\n        \"description\": \"\"\n      }\n    },\n    {\n      \"column\": \"length_of_job_search\",\n      \"properties\": {\n        \"dtype\": \"category\",\n        \"num_unique_values\": 5,\n        \"samples\": [\n          \"Less than one month\",\n          \"Over a year\"\n        ],\n        \"semantic_type\": \"\",\n        \"description\": \"\"\n      }\n    },\n    {\n      \"column\": \"biggest_challenge_in_search\",\n      \"properties\": {\n        \"dtype\": \"category\",\n        \"num_unique_values\": 10,\n        \"samples\": [\n          \"Behavioral interviewing\",\n          \"Getting past final round interviews\"\n        ],\n        \"semantic_type\": \"\",\n        \"description\": \"\"\n      }\n    },\n    {\n      \"column\": \"professional_experience\",\n      \"properties\": {\n        \"dtype\": \"category\",\n        \"num_unique_values\": 4,\n        \"samples\": [\n          \"1-2 years\",\n          \"5+ years\"\n        ],\n        \"semantic_type\": \"\",\n        \"description\": \"\"\n      }\n    },\n    {\n      \"column\": \"work_authorization_status\",\n      \"properties\": {\n        \"dtype\": \"category\",\n        \"num_unique_values\": 9,\n        \"samples\": [\n          \"Not Authorized\",\n          \"Citizen\"\n        ],\n        \"semantic_type\": \"\",\n        \"description\": \"\"\n      }\n    },\n    {\n      \"column\": \"number_of_interviews\",\n      \"properties\": {\n        \"dtype\": \"number\",\n        \"std\": 2.9592726679893673,\n        \"min\": 0.0,\n        \"max\": 20.0,\n        \"num_unique_values\": 21,\n        \"samples\": [\n          2.0,\n          14.0\n        ],\n        \"semantic_type\": \"\",\n        \"description\": \"\"\n      }\n    },\n    {\n      \"column\": \"number_of_applications\",\n      \"properties\": {\n        \"dtype\": \"number\",\n        \"std\": 53,\n        \"min\": 0,\n        \"max\": 1000,\n        \"num_unique_values\": 41,\n        \"samples\": [\n          200,\n          70\n        ],\n        \"semantic_type\": \"\",\n        \"description\": \"\"\n      }\n    },\n    {\n      \"column\": \"gender\",\n      \"properties\": {\n        \"dtype\": \"category\",\n        \"num_unique_values\": 4,\n        \"samples\": [\n          \"Female\",\n          \"Non-Binary\"\n        ],\n        \"semantic_type\": \"\",\n        \"description\": \"\"\n      }\n    },\n    {\n      \"column\": \"race\",\n      \"properties\": {\n        \"dtype\": \"category\",\n        \"num_unique_values\": 9,\n        \"samples\": [\n          \"Two or More Races\",\n          \"East Asian or Asian American\"\n        ],\n        \"semantic_type\": \"\",\n        \"description\": \"\"\n      }\n    }\n  ]\n}"
            }
          },
          "metadata": {},
          "execution_count": 23
        }
      ]
    },
    {
      "cell_type": "code",
      "source": [
        "#ARASH"
      ],
      "metadata": {
        "id": "VVHDYQRrvDjS"
      },
      "execution_count": null,
      "outputs": []
    },
    {
      "cell_type": "code",
      "source": [
        "num_rows = df['cohort_tag'].isnull().sum()\n",
        "\n",
        "df['cohort_tag'] = df['cohort_tag'].fillna(df['cohort_tag'].mode()[0])\n",
        "\n",
        "print(num_rows, \"rows affected\")"
      ],
      "metadata": {
        "colab": {
          "base_uri": "https://localhost:8080/"
        },
        "id": "XbRAKqDHpM1n",
        "outputId": "a8efc0d7-f1d1-42cd-a639-3433faa8e2b6"
      },
      "execution_count": 24,
      "outputs": [
        {
          "output_type": "stream",
          "name": "stdout",
          "text": [
            "8 rows affected\n"
          ]
        }
      ]
    },
    {
      "cell_type": "code",
      "source": [
        "covid_start = pd.to_datetime('2020-02-01')\n",
        "covid_end = pd.to_datetime('2021-09-30')\n"
      ],
      "metadata": {
        "id": "iOT9EoZfpNKF"
      },
      "execution_count": 25,
      "outputs": []
    },
    {
      "cell_type": "code",
      "source": [
        "df['is_covid'] = ((df['cohort_date'] >= covid_start) & (df['cohort_date'] <= covid_end)).astype(int)"
      ],
      "metadata": {
        "colab": {
          "base_uri": "https://localhost:8080/",
          "height": 478
        },
        "id": "xWGW9w7ipO8f",
        "outputId": "d0394962-3e6d-456c-ae52-a20c010ef994"
      },
      "execution_count": 26,
      "outputs": [
        {
          "output_type": "error",
          "ename": "KeyError",
          "evalue": "'cohort_date'",
          "traceback": [
            "\u001b[0;31m---------------------------------------------------------------------------\u001b[0m",
            "\u001b[0;31mKeyError\u001b[0m                                  Traceback (most recent call last)",
            "\u001b[0;32m/usr/local/lib/python3.10/dist-packages/pandas/core/indexes/base.py\u001b[0m in \u001b[0;36mget_loc\u001b[0;34m(self, key)\u001b[0m\n\u001b[1;32m   3652\u001b[0m         \u001b[0;32mtry\u001b[0m\u001b[0;34m:\u001b[0m\u001b[0;34m\u001b[0m\u001b[0;34m\u001b[0m\u001b[0m\n\u001b[0;32m-> 3653\u001b[0;31m             \u001b[0;32mreturn\u001b[0m \u001b[0mself\u001b[0m\u001b[0;34m.\u001b[0m\u001b[0m_engine\u001b[0m\u001b[0;34m.\u001b[0m\u001b[0mget_loc\u001b[0m\u001b[0;34m(\u001b[0m\u001b[0mcasted_key\u001b[0m\u001b[0;34m)\u001b[0m\u001b[0;34m\u001b[0m\u001b[0;34m\u001b[0m\u001b[0m\n\u001b[0m\u001b[1;32m   3654\u001b[0m         \u001b[0;32mexcept\u001b[0m \u001b[0mKeyError\u001b[0m \u001b[0;32mas\u001b[0m \u001b[0merr\u001b[0m\u001b[0;34m:\u001b[0m\u001b[0;34m\u001b[0m\u001b[0;34m\u001b[0m\u001b[0m\n",
            "\u001b[0;32m/usr/local/lib/python3.10/dist-packages/pandas/_libs/index.pyx\u001b[0m in \u001b[0;36mpandas._libs.index.IndexEngine.get_loc\u001b[0;34m()\u001b[0m\n",
            "\u001b[0;32m/usr/local/lib/python3.10/dist-packages/pandas/_libs/index.pyx\u001b[0m in \u001b[0;36mpandas._libs.index.IndexEngine.get_loc\u001b[0;34m()\u001b[0m\n",
            "\u001b[0;32mpandas/_libs/hashtable_class_helper.pxi\u001b[0m in \u001b[0;36mpandas._libs.hashtable.PyObjectHashTable.get_item\u001b[0;34m()\u001b[0m\n",
            "\u001b[0;32mpandas/_libs/hashtable_class_helper.pxi\u001b[0m in \u001b[0;36mpandas._libs.hashtable.PyObjectHashTable.get_item\u001b[0;34m()\u001b[0m\n",
            "\u001b[0;31mKeyError\u001b[0m: 'cohort_date'",
            "\nThe above exception was the direct cause of the following exception:\n",
            "\u001b[0;31mKeyError\u001b[0m                                  Traceback (most recent call last)",
            "\u001b[0;32m<ipython-input-26-baf39be2f26c>\u001b[0m in \u001b[0;36m<cell line: 1>\u001b[0;34m()\u001b[0m\n\u001b[0;32m----> 1\u001b[0;31m \u001b[0mdf\u001b[0m\u001b[0;34m[\u001b[0m\u001b[0;34m'is_covid'\u001b[0m\u001b[0;34m]\u001b[0m \u001b[0;34m=\u001b[0m \u001b[0;34m(\u001b[0m\u001b[0;34m(\u001b[0m\u001b[0mdf\u001b[0m\u001b[0;34m[\u001b[0m\u001b[0;34m'cohort_date'\u001b[0m\u001b[0;34m]\u001b[0m \u001b[0;34m>=\u001b[0m \u001b[0mcovid_start\u001b[0m\u001b[0;34m)\u001b[0m \u001b[0;34m&\u001b[0m \u001b[0;34m(\u001b[0m\u001b[0mdf\u001b[0m\u001b[0;34m[\u001b[0m\u001b[0;34m'cohort_date'\u001b[0m\u001b[0;34m]\u001b[0m \u001b[0;34m<=\u001b[0m \u001b[0mcovid_end\u001b[0m\u001b[0;34m)\u001b[0m\u001b[0;34m)\u001b[0m\u001b[0;34m.\u001b[0m\u001b[0mastype\u001b[0m\u001b[0;34m(\u001b[0m\u001b[0mint\u001b[0m\u001b[0;34m)\u001b[0m\u001b[0;34m\u001b[0m\u001b[0;34m\u001b[0m\u001b[0m\n\u001b[0m",
            "\u001b[0;32m/usr/local/lib/python3.10/dist-packages/pandas/core/frame.py\u001b[0m in \u001b[0;36m__getitem__\u001b[0;34m(self, key)\u001b[0m\n\u001b[1;32m   3759\u001b[0m             \u001b[0;32mif\u001b[0m \u001b[0mself\u001b[0m\u001b[0;34m.\u001b[0m\u001b[0mcolumns\u001b[0m\u001b[0;34m.\u001b[0m\u001b[0mnlevels\u001b[0m \u001b[0;34m>\u001b[0m \u001b[0;36m1\u001b[0m\u001b[0;34m:\u001b[0m\u001b[0;34m\u001b[0m\u001b[0;34m\u001b[0m\u001b[0m\n\u001b[1;32m   3760\u001b[0m                 \u001b[0;32mreturn\u001b[0m \u001b[0mself\u001b[0m\u001b[0;34m.\u001b[0m\u001b[0m_getitem_multilevel\u001b[0m\u001b[0;34m(\u001b[0m\u001b[0mkey\u001b[0m\u001b[0;34m)\u001b[0m\u001b[0;34m\u001b[0m\u001b[0;34m\u001b[0m\u001b[0m\n\u001b[0;32m-> 3761\u001b[0;31m             \u001b[0mindexer\u001b[0m \u001b[0;34m=\u001b[0m \u001b[0mself\u001b[0m\u001b[0;34m.\u001b[0m\u001b[0mcolumns\u001b[0m\u001b[0;34m.\u001b[0m\u001b[0mget_loc\u001b[0m\u001b[0;34m(\u001b[0m\u001b[0mkey\u001b[0m\u001b[0;34m)\u001b[0m\u001b[0;34m\u001b[0m\u001b[0;34m\u001b[0m\u001b[0m\n\u001b[0m\u001b[1;32m   3762\u001b[0m             \u001b[0;32mif\u001b[0m \u001b[0mis_integer\u001b[0m\u001b[0;34m(\u001b[0m\u001b[0mindexer\u001b[0m\u001b[0;34m)\u001b[0m\u001b[0;34m:\u001b[0m\u001b[0;34m\u001b[0m\u001b[0;34m\u001b[0m\u001b[0m\n\u001b[1;32m   3763\u001b[0m                 \u001b[0mindexer\u001b[0m \u001b[0;34m=\u001b[0m \u001b[0;34m[\u001b[0m\u001b[0mindexer\u001b[0m\u001b[0;34m]\u001b[0m\u001b[0;34m\u001b[0m\u001b[0;34m\u001b[0m\u001b[0m\n",
            "\u001b[0;32m/usr/local/lib/python3.10/dist-packages/pandas/core/indexes/base.py\u001b[0m in \u001b[0;36mget_loc\u001b[0;34m(self, key)\u001b[0m\n\u001b[1;32m   3653\u001b[0m             \u001b[0;32mreturn\u001b[0m \u001b[0mself\u001b[0m\u001b[0;34m.\u001b[0m\u001b[0m_engine\u001b[0m\u001b[0;34m.\u001b[0m\u001b[0mget_loc\u001b[0m\u001b[0;34m(\u001b[0m\u001b[0mcasted_key\u001b[0m\u001b[0;34m)\u001b[0m\u001b[0;34m\u001b[0m\u001b[0;34m\u001b[0m\u001b[0m\n\u001b[1;32m   3654\u001b[0m         \u001b[0;32mexcept\u001b[0m \u001b[0mKeyError\u001b[0m \u001b[0;32mas\u001b[0m \u001b[0merr\u001b[0m\u001b[0;34m:\u001b[0m\u001b[0;34m\u001b[0m\u001b[0;34m\u001b[0m\u001b[0m\n\u001b[0;32m-> 3655\u001b[0;31m             \u001b[0;32mraise\u001b[0m \u001b[0mKeyError\u001b[0m\u001b[0;34m(\u001b[0m\u001b[0mkey\u001b[0m\u001b[0;34m)\u001b[0m \u001b[0;32mfrom\u001b[0m \u001b[0merr\u001b[0m\u001b[0;34m\u001b[0m\u001b[0;34m\u001b[0m\u001b[0m\n\u001b[0m\u001b[1;32m   3656\u001b[0m         \u001b[0;32mexcept\u001b[0m \u001b[0mTypeError\u001b[0m\u001b[0;34m:\u001b[0m\u001b[0;34m\u001b[0m\u001b[0;34m\u001b[0m\u001b[0m\n\u001b[1;32m   3657\u001b[0m             \u001b[0;31m# If we have a listlike key, _check_indexing_error will raise\u001b[0m\u001b[0;34m\u001b[0m\u001b[0;34m\u001b[0m\u001b[0m\n",
            "\u001b[0;31mKeyError\u001b[0m: 'cohort_date'"
          ]
        }
      ]
    },
    {
      "cell_type": "code",
      "source": [
        "df[\"starting_month\"] = df['cohort_tag'].str.slice(0, 3)"
      ],
      "metadata": {
        "id": "41OOMMsCpQq9"
      },
      "execution_count": 27,
      "outputs": []
    },
    {
      "cell_type": "code",
      "source": [
        "df.drop(columns=['cohort_tag'], inplace=True)"
      ],
      "metadata": {
        "id": "UXz6Pb8WptcV"
      },
      "execution_count": 28,
      "outputs": []
    },
    {
      "cell_type": "code",
      "source": [],
      "metadata": {
        "id": "VEsbS3AipxC8"
      },
      "execution_count": null,
      "outputs": []
    },
    {
      "cell_type": "code",
      "source": [
        "#MOSLEM\n",
        "frequency = df['employment_status '].value_counts()"
      ],
      "metadata": {
        "id": "elvIXcbpvJ3J"
      },
      "execution_count": 29,
      "outputs": []
    },
    {
      "cell_type": "code",
      "source": [
        "percentage_frequency = (frequency / len(df)) * 100"
      ],
      "metadata": {
        "id": "FHuyawZUvLjl"
      },
      "execution_count": 30,
      "outputs": []
    },
    {
      "cell_type": "code",
      "source": [
        "print(percentage_frequency)"
      ],
      "metadata": {
        "colab": {
          "base_uri": "https://localhost:8080/"
        },
        "id": "5c-E3UNYvNbM",
        "outputId": "bc9f33ce-bce3-48dd-deee-69d49c918a54"
      },
      "execution_count": 31,
      "outputs": [
        {
          "output_type": "stream",
          "name": "stdout",
          "text": [
            "employment_status \n",
            "Student               30.463836\n",
            "Unemployed            26.139937\n",
            "Employed Full-Time    17.099057\n",
            "Employed Part-Time    10.613208\n",
            "Contractor             6.682390\n",
            "Name: count, dtype: float64\n"
          ]
        }
      ]
    },
    {
      "cell_type": "code",
      "source": [
        "frequencyw = df['work_authorization_status'].value_counts()"
      ],
      "metadata": {
        "id": "bvN61fewvO-b"
      },
      "execution_count": 32,
      "outputs": []
    },
    {
      "cell_type": "code",
      "source": [
        "percentage_frequencyw = (frequencyw / len(df)) * 100"
      ],
      "metadata": {
        "id": "AuVrneKFvRK0"
      },
      "execution_count": 33,
      "outputs": []
    },
    {
      "cell_type": "code",
      "source": [
        "print(percentage_frequencyw)"
      ],
      "metadata": {
        "colab": {
          "base_uri": "https://localhost:8080/"
        },
        "id": "ZUhpmpM5vSri",
        "outputId": "4ab82eec-65e9-4430-9214-6161faf726da"
      },
      "execution_count": 34,
      "outputs": [
        {
          "output_type": "stream",
          "name": "stdout",
          "text": [
            "work_authorization_status\n",
            "Citizen           43.396226\n",
            "F1 Visa/OPT       25.314465\n",
            "Green Card         7.232704\n",
            "F1 Visa/CPT        5.188679\n",
            "Other              4.402516\n",
            "H1B                1.886792\n",
            "Canada Citizen     0.943396\n",
            "STEM OPT           0.314465\n",
            "Not Authorized     0.157233\n",
            "Name: count, dtype: float64\n"
          ]
        }
      ]
    },
    {
      "cell_type": "code",
      "source": [
        "percentage_frequency = df['employment_status '].value_counts(normalize=True) * 100"
      ],
      "metadata": {
        "id": "l4ZjEDnhvVZH"
      },
      "execution_count": 35,
      "outputs": []
    },
    {
      "cell_type": "code",
      "source": [
        "percentage_frequencyw = df['work_authorization_status'].value_counts(normalize=True) * 100"
      ],
      "metadata": {
        "id": "HmldAn77vZJb"
      },
      "execution_count": 36,
      "outputs": []
    },
    {
      "cell_type": "code",
      "source": [
        "missing_values = df['employment_status '].isnull()"
      ],
      "metadata": {
        "id": "jTciYtRivatK"
      },
      "execution_count": 38,
      "outputs": []
    },
    {
      "cell_type": "code",
      "source": [
        "missing_valuesw = df['work_authorization_status'].isnull()"
      ],
      "metadata": {
        "id": "BxgR2Qkkvcb_"
      },
      "execution_count": 39,
      "outputs": []
    },
    {
      "cell_type": "code",
      "source": [
        "missing_values_count = missing_values.sum()"
      ],
      "metadata": {
        "id": "YwmRm2MXvgfy"
      },
      "execution_count": 40,
      "outputs": []
    },
    {
      "cell_type": "code",
      "source": [
        "missing_values_countw = missing_valuesw.sum()"
      ],
      "metadata": {
        "id": "KqYbrZsMviKe"
      },
      "execution_count": 41,
      "outputs": []
    },
    {
      "cell_type": "code",
      "source": [
        "missing_values_to_fill = np.random.choice(percentage_frequency.index, size=missing_values_count, p=(percentage_frequency / 100))"
      ],
      "metadata": {
        "id": "jW7nEXu7vjex"
      },
      "execution_count": 42,
      "outputs": []
    },
    {
      "cell_type": "code",
      "source": [
        "missing_values_to_fillw = np.random.choice(percentage_frequencyw.index, size=missing_values_countw, p=(percentage_frequencyw / 100))"
      ],
      "metadata": {
        "id": "ABQakCQZvkxZ"
      },
      "execution_count": 43,
      "outputs": []
    },
    {
      "cell_type": "code",
      "source": [
        "df.loc[missing_values, 'employment_status '] = missing_values_to_fill"
      ],
      "metadata": {
        "id": "bHraB2T0vmkM"
      },
      "execution_count": 45,
      "outputs": []
    },
    {
      "cell_type": "code",
      "source": [
        "df.loc[missing_valuesw, 'work_authorization_status'] = missing_values_to_fillw"
      ],
      "metadata": {
        "id": "-TTTIkDnvobD"
      },
      "execution_count": 46,
      "outputs": []
    },
    {
      "cell_type": "code",
      "source": [
        "print(\"Updated DataFrame with filled missing values:\")"
      ],
      "metadata": {
        "colab": {
          "base_uri": "https://localhost:8080/"
        },
        "id": "f5ZuFSQgvr6q",
        "outputId": "36fab8c6-8dc0-4e2b-e9f1-3fb8946e429f"
      },
      "execution_count": 47,
      "outputs": [
        {
          "output_type": "stream",
          "name": "stdout",
          "text": [
            "Updated DataFrame with filled missing values:\n"
          ]
        }
      ]
    },
    {
      "cell_type": "code",
      "source": [
        "print(df)"
      ],
      "metadata": {
        "colab": {
          "base_uri": "https://localhost:8080/"
        },
        "id": "OYEh5tl-vtlZ",
        "outputId": "b1e84fea-21e1-4248-8912-bdcbe1e48ce8"
      },
      "execution_count": 48,
      "outputs": [
        {
          "output_type": "stream",
          "name": "stdout",
          "text": [
            "        id     pathrise_status primary_track  program_duration_days  placed  \\\n",
            "0        1              Active           SWE                    NaN       0   \n",
            "1        2              Active           PSO                    NaN       0   \n",
            "2        3         Closed Lost        Design                    0.0       0   \n",
            "3        4         Closed Lost           PSO                    0.0       0   \n",
            "4        5              Placed           SWE                   89.0       1   \n",
            "...    ...                 ...           ...                    ...     ...   \n",
            "2539  2540  Withdrawn (Failed)        Design                  457.0       0   \n",
            "2540  2541  Withdrawn (Failed)          Data                  488.0       0   \n",
            "2541  2542              Active           SWE                    NaN       0   \n",
            "2542  2543              Active           SWE                    NaN       0   \n",
            "2543  2544           Withdrawn           SWE                  285.0       0   \n",
            "\n",
            "      employment_status  highest_level_of_education length_of_job_search  \\\n",
            "0             Unemployed          Bachelor's Degree           3-5 months   \n",
            "1             Unemployed    Some College, No Degree           3-5 months   \n",
            "2     Employed Part-Time            Master's Degree  Less than one month   \n",
            "3             Contractor          Bachelor's Degree  Less than one month   \n",
            "4             Unemployed          Bachelor's Degree           1-2 months   \n",
            "...                  ...                        ...                  ...   \n",
            "2539          Contractor            Master's Degree   6 months to a year   \n",
            "2540             Student            Master's Degree           3-5 months   \n",
            "2541          Contractor          Bachelor's Degree  Less than one month   \n",
            "2542  Employed Part-Time            Master's Degree  Less than one month   \n",
            "2543             Student            Master's Degree           1-2 months   \n",
            "\n",
            "               biggest_challenge_in_search professional_experience  \\\n",
            "0          Hearing back on my applications               3-4 years   \n",
            "1      Getting past final round interviews               1-2 years   \n",
            "2     Figuring out which jobs to apply for      Less than one year   \n",
            "3      Getting past final round interviews      Less than one year   \n",
            "4          Hearing back on my applications               1-2 years   \n",
            "...                                    ...                     ...   \n",
            "2539                Technical interviewing                5+ years   \n",
            "2540       Hearing back on my applications               1-2 years   \n",
            "2541                Technical interviewing               1-2 years   \n",
            "2542                Technical interviewing               1-2 years   \n",
            "2543       Hearing back on my applications               1-2 years   \n",
            "\n",
            "     work_authorization_status  number_of_interviews  number_of_applications  \\\n",
            "0               Canada Citizen                   2.0                     900   \n",
            "1                      Citizen                   6.0                       0   \n",
            "2                      Citizen                   0.0                       0   \n",
            "3                      Citizen                   5.0                      25   \n",
            "4                  F1 Visa/OPT                  10.0                     100   \n",
            "...                        ...                   ...                     ...   \n",
            "2539                   Citizen                   4.0                      15   \n",
            "2540               F1 Visa/OPT                   1.0                       7   \n",
            "2541                   Citizen                   1.0                      30   \n",
            "2542                   Citizen                   2.0                      10   \n",
            "2543                Green Card                   3.0                      70   \n",
            "\n",
            "      gender                                 race starting_month  \n",
            "0       Male  Non-Hispanic White or Euro-American            OCT  \n",
            "1       Male  Non-Hispanic White or Euro-American            JAN  \n",
            "2       Male         East Asian or Asian American            AUG  \n",
            "3       Male             Decline to Self Identify            AUG  \n",
            "4       Male         East Asian or Asian American            AUG  \n",
            "...      ...                                  ...            ...  \n",
            "2539    Male  Non-Hispanic White or Euro-American            JUN  \n",
            "2540    Male  Non-Hispanic White or Euro-American            JAN  \n",
            "2541  Female  Non-Hispanic White or Euro-American            SEP  \n",
            "2542    Male             Decline to Self Identify            MAY  \n",
            "2543    Male  Non-Hispanic White or Euro-American            OCT  \n",
            "\n",
            "[2544 rows x 16 columns]\n"
          ]
        }
      ]
    },
    {
      "cell_type": "code",
      "source": [
        "#SAMAN"
      ],
      "metadata": {
        "id": "10H9Cr5evwKq"
      },
      "execution_count": 49,
      "outputs": []
    },
    {
      "cell_type": "code",
      "source": [
        "def change_values(a):\n",
        "  if a=='Less than one month':\n",
        "    a=a.replace('Less than one month','0.5')\n",
        "  else:\n",
        "    return a\n",
        "  return a\n",
        "\n",
        "df['length_of_job_search']=df['length_of_job_search'].apply(change_values)\n"
      ],
      "metadata": {
        "id": "8mWje-quv1Lh"
      },
      "execution_count": 53,
      "outputs": []
    },
    {
      "cell_type": "code",
      "source": [
        "def change_values1(a):\n",
        "  if a=='3-5 months':\n",
        "    a=a.replace('3-5 months','4')\n",
        "  else:\n",
        "    return a\n",
        "  return a\n",
        "\n",
        "df['length_of_job_search']=df['length_of_job_search'].apply(change_values1)"
      ],
      "metadata": {
        "id": "c9yAsgyCv5gs"
      },
      "execution_count": 54,
      "outputs": []
    },
    {
      "cell_type": "code",
      "source": [
        "def change_values2(a):\n",
        "  if a=='1-2 months':\n",
        "    a=a.replace('1-2 months','1.5')\n",
        "  else:\n",
        "    return a\n",
        "  return a\n",
        "\n",
        "df['length_of_job_search']=df['length_of_job_search'].apply(change_values2)\n"
      ],
      "metadata": {
        "id": "kUPGMQ1kwKT5"
      },
      "execution_count": 55,
      "outputs": []
    },
    {
      "cell_type": "code",
      "source": [
        "def change_values3(a):\n",
        "  if a=='6 months to a year':\n",
        "    a=a.replace('6 months to a year','9')\n",
        "  else:\n",
        "    return a\n",
        "  return a\n"
      ],
      "metadata": {
        "id": "d4JS6lyjwMab"
      },
      "execution_count": 56,
      "outputs": []
    },
    {
      "cell_type": "code",
      "source": [
        "df['length_of_job_search']=df['length_of_job_search'].apply(change_values3)"
      ],
      "metadata": {
        "id": "Gh0pyZ1XwOJK"
      },
      "execution_count": 57,
      "outputs": []
    },
    {
      "cell_type": "code",
      "source": [
        "def change_values4(a):\n",
        "  if a=='Over a year ':\n",
        "    a=a.replace('Over a year ','1')\n",
        "  else:\n",
        "    return a\n",
        "  return a\n"
      ],
      "metadata": {
        "id": "Gx-S-WmBwQkL"
      },
      "execution_count": 58,
      "outputs": []
    },
    {
      "cell_type": "code",
      "source": [
        "df['length_of_job_search']=df['length_of_job_search'].apply(change_values4)"
      ],
      "metadata": {
        "id": "1SwxMiIywVQd"
      },
      "execution_count": 59,
      "outputs": []
    },
    {
      "cell_type": "code",
      "source": [
        "def briefing(a):\n",
        "  if a== 'Hearing back on my applications':\n",
        "    return 'Hearing'\n",
        "  elif a=='Getting past final round interviews':\n",
        "    return 'Final'\n",
        "  elif a=='Technical interviewing':\n",
        "    return 'Technical'\n",
        "  elif a=='Lack of relevant experience':\n",
        "    return 'Experience'\n",
        "  elif a=='Getting past mid-stage interviews':\n",
        "    return 'Mid'\n",
        "  elif a=='Figuring out which jobs to apply for':\n",
        "    return 'Which'\n",
        "  elif a=='Getting past phone screens':\n",
        "    return 'Phone'\n",
        "  elif a=='Behavioral interviewing':\n",
        "    return 'Behavior'\n",
        "  elif a=='Resume gap':\n",
        "    return 'Resume'\n",
        "  elif a=='Technical skills':\n",
        "    return 'Skills'\n"
      ],
      "metadata": {
        "id": "ei8ua-_kwWz9"
      },
      "execution_count": 60,
      "outputs": []
    },
    {
      "cell_type": "code",
      "source": [
        "df['biggest_challenge_in_search']=df['biggest_challenge_in_search'].apply(briefing)\n"
      ],
      "metadata": {
        "id": "ZGhZg8VQwYzq"
      },
      "execution_count": 61,
      "outputs": []
    },
    {
      "cell_type": "code",
      "source": [
        "#TINA"
      ],
      "metadata": {
        "id": "9qoG_rZJw2xK"
      },
      "execution_count": null,
      "outputs": []
    },
    {
      "cell_type": "code",
      "source": [
        "missing_values_count = df['professional_experience'].isnull().sum()\n",
        "total_values = len(df)\n",
        "missing_values_percentage = (missing_values_count / total_values) * 100\n",
        "print(\"Number of missing values in column:\", missing_values_count)\n",
        "print(\"Percentage of missing values in column: {:.2f}%\".format(missing_values_percentage))"
      ],
      "metadata": {
        "colab": {
          "base_uri": "https://localhost:8080/"
        },
        "id": "BkPBUQJewagt",
        "outputId": "37172c52-7fe2-49dc-cd55-5bbdfa59fdd2"
      },
      "execution_count": 62,
      "outputs": [
        {
          "output_type": "stream",
          "name": "stdout",
          "text": [
            "Number of missing values in column: 222\n",
            "Percentage of missing values in column: 8.73%\n"
          ]
        }
      ]
    },
    {
      "cell_type": "code",
      "source": [
        "missing_values_count = df['highest_level_of_education'].isnull().sum()\n",
        "total_values = len(df)\n",
        "missing_values_percentage = (missing_values_count / total_values) * 100\n",
        "print(\"Number of missing values in column:\", missing_values_count)\n",
        "print(\"Percentage of missing values in column: {:.2f}%\".format(missing_values_percentage))"
      ],
      "metadata": {
        "colab": {
          "base_uri": "https://localhost:8080/"
        },
        "id": "4PI5dDaBwjHk",
        "outputId": "2a0bc547-87e8-42f4-d41b-d999ce1b48e6"
      },
      "execution_count": 63,
      "outputs": [
        {
          "output_type": "stream",
          "name": "stdout",
          "text": [
            "Number of missing values in column: 58\n",
            "Percentage of missing values in column: 2.28%\n"
          ]
        }
      ]
    },
    {
      "cell_type": "code",
      "source": [
        "s = df.professional_experience.value_counts(normalize=True)\n",
        "missing = df['professional_experience'].isnull()\n",
        "df.loc[missing,'professional_experience'] = np.random.choice(s.index, size=len(df[missing]),p=s.values)"
      ],
      "metadata": {
        "id": "YVxq_QIYwlTw"
      },
      "execution_count": 64,
      "outputs": []
    },
    {
      "cell_type": "code",
      "source": [
        "ss = df.highest_level_of_education.value_counts(normalize=True)\n",
        "missing2 = df['highest_level_of_education'].isnull()\n",
        "df.loc[missing2,'highest_level_of_education'] = np.random.choice(ss.index, size=len(df[missing2]),p=ss.values)"
      ],
      "metadata": {
        "id": "7UV3QA0lwnGl"
      },
      "execution_count": 65,
      "outputs": []
    },
    {
      "cell_type": "code",
      "source": [
        "def title_organizer(a):\n",
        "    if (\"Some College, No Degree\" in a) or (\"High School Graduate\" in a) or (\"GED or equivalent\" in a) or (\"Some High School\" in a) :\n",
        "        return \"No University/ College Education\"\n",
        "    else:\n",
        "        return a"
      ],
      "metadata": {
        "id": "aNSCWPJ7wp9J"
      },
      "execution_count": 66,
      "outputs": []
    },
    {
      "cell_type": "code",
      "source": [
        "df['highest_level_of_education'] = df['highest_level_of_education'].apply(title_organizer)"
      ],
      "metadata": {
        "id": "96ZGk9udwrd9"
      },
      "execution_count": 67,
      "outputs": []
    },
    {
      "cell_type": "code",
      "source": [
        "def title_organizer2(n):\n",
        "\n",
        "    if (\"Less than one year\" in n) :\n",
        "        return \"Novice\"\n",
        "    elif (\"1-2 years\") in n  or (\"3-4 years\") in n:\n",
        "        return \"Junior-Level\"\n",
        "    elif (\"5+ years\") in n:\n",
        "        return \"Senior-Level\"\n",
        "    else:\n",
        "        return n"
      ],
      "metadata": {
        "id": "3Fxl2t15wu5z"
      },
      "execution_count": 68,
      "outputs": []
    },
    {
      "cell_type": "code",
      "source": [
        "df['professional_experience'] = df['professional_experience'].apply(title_organizer2)"
      ],
      "metadata": {
        "id": "81rFS01LwwxD"
      },
      "execution_count": 69,
      "outputs": []
    },
    {
      "cell_type": "code",
      "source": [
        "#NEGAR\n"
      ],
      "metadata": {
        "id": "-iMFGt-WwycD"
      },
      "execution_count": 70,
      "outputs": []
    },
    {
      "cell_type": "code",
      "source": [
        "missing_values_count = df['gender'].isnull().sum()\n",
        "total_values = len(df)\n",
        "missing_values_percentage = (missing_values_count / total_values) * 100\n",
        "print(\"Number of missing values in column:\", missing_values_count)\n",
        "print(\"Percentage of missing values in column: {:.2f}%\".format(missing_values_percentage))"
      ],
      "metadata": {
        "colab": {
          "base_uri": "https://localhost:8080/"
        },
        "id": "lcQo1HMLw6li",
        "outputId": "9573b8d7-ca8c-4f1a-aaee-39d3886cd952"
      },
      "execution_count": 71,
      "outputs": [
        {
          "output_type": "stream",
          "name": "stdout",
          "text": [
            "Number of missing values in column: 492\n",
            "Percentage of missing values in column: 19.34%\n"
          ]
        }
      ]
    },
    {
      "cell_type": "code",
      "source": [
        "missing_values_count = df['race'].isnull().sum()\n",
        "total_values = len(df)\n",
        "missing_values_percentage = (missing_values_count / total_values) * 100\n",
        "print(\"Number of missing values in column:\", missing_values_count)\n",
        "print(\"Percentage of missing values in column: {:.2f}%\".format(missing_values_percentage))"
      ],
      "metadata": {
        "colab": {
          "base_uri": "https://localhost:8080/"
        },
        "id": "YNYtbWcmw-5Z",
        "outputId": "32f6c018-0bc2-4175-c343-c35cfae69135"
      },
      "execution_count": 72,
      "outputs": [
        {
          "output_type": "stream",
          "name": "stdout",
          "text": [
            "Number of missing values in column: 18\n",
            "Percentage of missing values in column: 0.71%\n"
          ]
        }
      ]
    },
    {
      "cell_type": "code",
      "source": [
        "g = df.gender.value_counts(normalize=True)\n",
        "missing2 = df['gender'].isnull()\n",
        "df.loc[missing2,'gender'] = np.random.choice(g.index, size=len(df[missing2]),p=g.values)"
      ],
      "metadata": {
        "id": "jgjquXCAxAgW"
      },
      "execution_count": 73,
      "outputs": []
    },
    {
      "cell_type": "code",
      "source": [
        "r = df.race.value_counts(normalize=True)\n",
        "missing3 = df['race'].isnull()\n",
        "df.loc[missing3,'race'] = np.random.choice(r.index, size=len(df[missing3]),p=r.values)"
      ],
      "metadata": {
        "id": "dlUo28TNxCmg"
      },
      "execution_count": 74,
      "outputs": []
    },
    {
      "cell_type": "code",
      "source": [
        "missing_values_count = df['gender'].isnull().sum()\n",
        "total_values = len(df)\n",
        "missing_values_percentage = (missing_values_count / total_values) * 100\n",
        "print(\"Number of missing values in column:\", missing_values_count)\n",
        "print(\"Percentage of missing values in column: {:.2f}%\".format(missing_values_percentage))"
      ],
      "metadata": {
        "colab": {
          "base_uri": "https://localhost:8080/"
        },
        "id": "d9UKXs4ZxEM_",
        "outputId": "7cde1670-b144-4de3-da8e-d5572432574d"
      },
      "execution_count": 75,
      "outputs": [
        {
          "output_type": "stream",
          "name": "stdout",
          "text": [
            "Number of missing values in column: 0\n",
            "Percentage of missing values in column: 0.00%\n"
          ]
        }
      ]
    },
    {
      "cell_type": "code",
      "source": [
        "missing_values_count = df['race'].isnull().sum()\n",
        "total_values = len(df)\n",
        "missing_values_percentage = (missing_values_count / total_values) * 100\n",
        "print(\"Number of missing values in column:\", missing_values_count)\n",
        "print(\"Percentage of missing values in column: {:.2f}%\".format(missing_values_percentage))"
      ],
      "metadata": {
        "colab": {
          "base_uri": "https://localhost:8080/"
        },
        "id": "0_QJVM-VxF2z",
        "outputId": "8ef81745-bb20-40e2-bd8a-2a0e5fb5bedb"
      },
      "execution_count": 76,
      "outputs": [
        {
          "output_type": "stream",
          "name": "stdout",
          "text": [
            "Number of missing values in column: 0\n",
            "Percentage of missing values in column: 0.00%\n"
          ]
        }
      ]
    },
    {
      "cell_type": "code",
      "source": [
        "#ELHAM"
      ],
      "metadata": {
        "id": "_Tn5hz7Y0Phq"
      },
      "execution_count": null,
      "outputs": []
    },
    {
      "cell_type": "code",
      "source": [
        "def application_group(x):\n",
        "    if( x<50):\n",
        "        return 'low'\n",
        "    elif x>=50 and x<=150:\n",
        "        return 'intermadiate'\n",
        "    elif x>=150:\n",
        "        return 'high'"
      ],
      "metadata": {
        "id": "VTaYsIBKy8uV"
      },
      "execution_count": 83,
      "outputs": []
    },
    {
      "cell_type": "code",
      "source": [
        "df['number_of_applications']=df['number_of_applications'].apply(application_group)"
      ],
      "metadata": {
        "id": "_HgWQ_OrzVXr"
      },
      "execution_count": 85,
      "outputs": []
    },
    {
      "cell_type": "code",
      "source": [
        "def interviews_group(x):\n",
        "           if (x<5):\n",
        "              return 'low'\n",
        "           elif x>=5 and x<=10:\n",
        "             return'intermadiate'\n",
        "           elif x>=10:\n",
        "             return 'high'\n"
      ],
      "metadata": {
        "id": "vprKzkUrzoqu"
      },
      "execution_count": 86,
      "outputs": []
    },
    {
      "cell_type": "code",
      "source": [
        "mean_number_of_interviews=df['number_of_interviews'].mean()"
      ],
      "metadata": {
        "id": "y6_UGrlyz6hk"
      },
      "execution_count": 87,
      "outputs": []
    },
    {
      "cell_type": "code",
      "source": [
        "df['number_of_interviews'].fillna(mean_number_of_interviews,inplace=True)\n"
      ],
      "metadata": {
        "id": "iyg7EOJGz9Yj"
      },
      "execution_count": 90,
      "outputs": []
    },
    {
      "cell_type": "code",
      "source": [
        "df['number_of_interviews']=df['number_of_interviews'].apply(interviews_group)"
      ],
      "metadata": {
        "id": "Pm9xq3dTz_V2"
      },
      "execution_count": 91,
      "outputs": []
    },
    {
      "cell_type": "code",
      "source": [],
      "metadata": {
        "id": "aKeM5MVP0Iu-"
      },
      "execution_count": null,
      "outputs": []
    }
  ]
}